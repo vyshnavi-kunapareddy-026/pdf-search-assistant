{
 "cells": [
  {
   "cell_type": "code",
   "execution_count": 2,
   "id": "1297514a-f86e-4215-8a4f-53f70601f79a",
   "metadata": {},
   "outputs": [
    {
     "data": {
      "text/plain": [
       "'A Study In Scarlet\\nArthur Conan Doyle\\nThis text is provided to you “as-is” without any warranty. No warranties of any kind, expressed or implied, are made to you as to the\\ntext or any medium it may be on, including but not limited to warranties of merchantablity or ﬁtness for a particular purpose.\\nThis text was formatted from various free ASCII and HTML variants. See http://sherlock-holm.es for an electronic form of this text\\nand additional information about it.\\nThis text comes from the collection’s version 3.1.\\nTable of contents\\nPart I\\nMr. Sherlock Holmes . . . . . . . . . . . . . . . . . . . . . . . . . . . . . . . . . . . . . . . . . . . . . . . . .\\n5\\nThe Science Of Deduction . . . . . . . . . . . . . . . . . . . . . . . . . . . . . . . . . . . . . . . . . . . .\\n8\\nThe Lauriston Garden Mystery . . . . . . . . . . . . . . . . . . . . . . . . . . . . . . . . . . . . . . .\\n12\\nWhat John Rance Had To Tell. . . . . . . . . . . . . . . . . . . . . . . . . . . . . . . . . . . . . . . . .\\n17\\n'"
      ]
     },
     "execution_count": 2,
     "metadata": {},
     "output_type": "execute_result"
    }
   ],
   "source": [
    "from src.pdf_reader import extract_full_text\n",
    "\n",
    "text = extract_full_text(\"study_in_scarlet.pdf\")  # Replace with actual file\n",
    "text[:1000]  # Show first 1000 chars\n"
   ]
  },
  {
   "cell_type": "code",
   "execution_count": 4,
   "id": "3bccebab-34b3-4fab-91cf-004994fc4927",
   "metadata": {},
   "outputs": [
    {
     "name": "stdout",
     "output_type": "stream",
     "text": [
      "Total chunks: 541\n",
      "A Study In Scarlet\n",
      "Arthur Conan Doyle\n",
      "This text is provided to you “as-is” without any warranty. No warranties of any kind, expressed or implied, are made to you as to the\n",
      "text or any medium it may be on, including but not limited to warranties of merchantablity or ﬁtness for a particular purpose.\n",
      "T\n",
      "Total characters: 256521\n"
     ]
    }
   ],
   "source": [
    "from src.pdf_reader import extract_text_by_page\n",
    "from src.chunker import chunk_text\n",
    "\n",
    "pages = extract_text_by_page(\"study_in_scarlet.pdf\")\n",
    "chunks = chunk_text(pages)\n",
    "\n",
    "print(f\"Total chunks: {len(chunks)}\")\n",
    "print(chunks[0][:300])  # Preview first chunk\n",
    "total_chars = sum(len(c) for c in chunks)\n",
    "print(f\"Total characters: {total_chars}\")\n",
    "\n"
   ]
  },
  {
   "cell_type": "code",
   "execution_count": 6,
   "id": "0589df88-229f-4a50-bb97-4c74dc5e4cce",
   "metadata": {},
   "outputs": [
    {
     "name": "stderr",
     "output_type": "stream",
     "text": [
      "C:\\Users\\Admin\\Documents\\VK\\pro\\pdf-search-assistant\\venv-pdf-search-assistant\\Lib\\site-packages\\tqdm\\auto.py:21: TqdmWarning: IProgress not found. Please update jupyter and ipywidgets. See https://ipywidgets.readthedocs.io/en/stable/user_install.html\n",
      "  from .autonotebook import tqdm as notebook_tqdm\n",
      "Batches: 100%|███████████████████████████████████████████████████████████████████████████| 1/1 [00:00<00:00,  2.92it/s]"
     ]
    },
    {
     "name": "stdout",
     "output_type": "stream",
     "text": [
      "5 embeddings created. Each dim: 384\n"
     ]
    },
    {
     "name": "stderr",
     "output_type": "stream",
     "text": [
      "\n"
     ]
    }
   ],
   "source": [
    "from src.pdf_reader import extract_text_by_page\n",
    "from src.chunker import chunk_text\n",
    "from src.embedding import embed_texts\n",
    "\n",
    "pages = extract_text_by_page(\"study_in_scarlet.pdf\")\n",
    "chunks = chunk_text(pages)\n",
    "\n",
    "embeddings = embed_texts(chunks[:5])  # First few for testing\n",
    "print(f\"{len(embeddings)} embeddings created. Each dim: {len(embeddings[0])}\")\n"
   ]
  },
  {
   "cell_type": "code",
   "execution_count": 2,
   "id": "d2d8281b-0519-41ad-996a-5f8103ca0f74",
   "metadata": {},
   "outputs": [
    {
     "name": "stderr",
     "output_type": "stream",
     "text": [
      "Batches: 100%|█████████████████████████████████████████████████████████████████████████| 17/17 [00:28<00:00,  1.66s/it]\n"
     ]
    },
    {
     "name": "stdout",
     "output_type": "stream",
     "text": [
      "Docs in collection: 1082\n"
     ]
    }
   ],
   "source": [
    "from src.pdf_reader import extract_text_by_page\n",
    "from src.chunker import chunk_text\n",
    "from src.embedding import embed_texts\n",
    "from src.vector_store import get_or_create_collection, add_chunks_to_collection\n",
    "\n",
    "# 1) read + chunk\n",
    "pages = extract_text_by_page(\"study_in_scarlet.pdf\")\n",
    "chunks = chunk_text(pages)\n",
    "\n",
    "# 2) embed\n",
    "embeddings = embed_texts(chunks)\n",
    "\n",
    "# 3) store\n",
    "collection = get_or_create_collection(\"my-pdf-docs\")\n",
    "add_chunks_to_collection(collection, chunks, embeddings, source=\"study_in_scarlet.pdf\")\n",
    "\n",
    "print(\"Docs in collection:\", collection.count())\n"
   ]
  },
  {
   "cell_type": "code",
   "execution_count": 3,
   "id": "e3fc6246-8649-406e-979f-8fe08be1872c",
   "metadata": {},
   "outputs": [
    {
     "name": "stderr",
     "output_type": "stream",
     "text": [
      "Batches: 100%|█████████████████████████████████████████████████████████████████████████| 17/17 [00:10<00:00,  1.58it/s]"
     ]
    },
    {
     "name": "stdout",
     "output_type": "stream",
     "text": [
      "Docs in collection: 1082\n"
     ]
    },
    {
     "name": "stderr",
     "output_type": "stream",
     "text": [
      "\n"
     ]
    }
   ],
   "source": [
    "from src.index_manager import ingest_pdf\n",
    "\n",
    "collection = ingest_pdf(\"study_in_scarlet.pdf\")\n",
    "print(\"Docs in collection:\", collection.count())\n"
   ]
  },
  {
   "cell_type": "code",
   "execution_count": 10,
   "id": "c6280c3f-b896-47fb-b4b7-01f72f2480ae",
   "metadata": {},
   "outputs": [
    {
     "name": "stderr",
     "output_type": "stream",
     "text": [
      "Batches: 100%|███████████████████████████████████████████████████████████████████████████| 1/1 [00:00<00:00, 53.85it/s]"
     ]
    },
    {
     "name": "stdout",
     "output_type": "stream",
     "text": [
      "{'documents': ['and additional information about it.\\nThis text comes from the collection’s version 3.1.\\nTable of contents\\nPart I\\nMr. Sherlock Holmes . . . . . . . . . . . . . . . . . . . . . . . . . . . . . . . . . . . . . . . . . . . . . . . . .\\n5\\nThe Science Of Deduction . . . . . . . . . . . . . . . . . . . . . . . . . . . . . . . . . . . . . . . . . . . .\\n8\\nThe Lauriston Garden Mystery . . . . . . . . . . . . . . . . . . . . . . . . . . . . . . . . . . . . . . .\\n12', 'and additional information about it.\\nThis text comes from the collection’s version 3.1.\\nTable of contents\\nPart I\\nMr. Sherlock Holmes . . . . . . . . . . . . . . . . . . . . . . . . . . . . . . . . . . . . . . . . . . . . . . . . .\\n5\\nThe Science Of Deduction . . . . . . . . . . . . . . . . . . . . . . . . . . . . . . . . . . . . . . . . . . . .\\n8\\nThe Lauriston Garden Mystery . . . . . . . . . . . . . . . . . . . . . . . . . . . . . . . . . . . . . . .\\n12', 'his tape and his glass in his pocket.\\n“They say that genius is an inﬁnite capacity for\\ntaking pains,” he remarked with a smile. “It’s a\\nvery bad deﬁnition, but it does apply to detective\\nwork.”\\nGregson and Lestrade had watched the manœu-\\nvres of their amateur companion with considerable\\ncuriosity and some contempt. They evidently failed\\nto appreciate the fact, which I had begun to real-\\nize, that Sherlock Holmes’ smallest actions were all\\ndirected towards some deﬁnite and practical end.'], 'metadatas': [{'source': 'sample.pdf', 'chunk': 1}, {'chunk': 1, 'source': 'study_in_scarlet.pdf'}, {'chunk': 127, 'source': 'study_in_scarlet.pdf'}], 'distances': [0.7841594815254211, 0.7841594815254211, 0.8214974999427795]}\n"
     ]
    },
    {
     "name": "stderr",
     "output_type": "stream",
     "text": [
      "\n"
     ]
    }
   ],
   "source": [
    "from src.search import search_query\n",
    "\n",
    "hits = search_query(\"who is sherlock?\", k=3)\n",
    "print(hits)\n"
   ]
  },
  {
   "cell_type": "code",
   "execution_count": 1,
   "id": "47f9c7e2-69a8-461e-a889-170c9d09dda8",
   "metadata": {},
   "outputs": [
    {
     "name": "stdout",
     "output_type": "stream",
     "text": [
      "hello\n"
     ]
    },
    {
     "name": "stderr",
     "output_type": "stream",
     "text": [
      "C:\\Users\\Admin\\Documents\\VK\\pro\\pdf-search-assistant\\venv-pdf-search-assistant\\Lib\\site-packages\\tqdm\\auto.py:21: TqdmWarning: IProgress not found. Please update jupyter and ipywidgets. See https://ipywidgets.readthedocs.io/en/stable/user_install.html\n",
      "  from .autonotebook import tqdm as notebook_tqdm\n",
      "Device set to use cpu\n"
     ]
    },
    {
     "ename": "NameError",
     "evalue": "name 'summarize_pdf' is not defined",
     "output_type": "error",
     "traceback": [
      "\u001b[31m---------------------------------------------------------------------------\u001b[39m",
      "\u001b[31mNameError\u001b[39m                                 Traceback (most recent call last)",
      "\u001b[36mCell\u001b[39m\u001b[36m \u001b[39m\u001b[32mIn[1]\u001b[39m\u001b[32m, line 3\u001b[39m\n\u001b[32m      1\u001b[39m \u001b[38;5;28;01mfrom\u001b[39;00m\u001b[38;5;250m \u001b[39m\u001b[34;01msrc\u001b[39;00m\u001b[34;01m.\u001b[39;00m\u001b[34;01mqa_pipeline\u001b[39;00m\u001b[38;5;250m \u001b[39m\u001b[38;5;28;01mimport\u001b[39;00m iterative_summarize\n\u001b[32m----> \u001b[39m\u001b[32m3\u001b[39m result = \u001b[43msummarize_pdf\u001b[49m(\u001b[33m\"\u001b[39m\u001b[33mSummarize the PDF\u001b[39m\u001b[33m\"\u001b[39m, k=\u001b[32m5\u001b[39m)\n\u001b[32m      4\u001b[39m \u001b[38;5;28mprint\u001b[39m(\u001b[33m\"\u001b[39m\u001b[33m=== SUMMARY ===\u001b[39m\u001b[33m\"\u001b[39m)\n\u001b[32m      5\u001b[39m \u001b[38;5;28mprint\u001b[39m(result[\u001b[33m\"\u001b[39m\u001b[33msummary\u001b[39m\u001b[33m\"\u001b[39m])\n",
      "\u001b[31mNameError\u001b[39m: name 'summarize_pdf' is not defined"
     ]
    }
   ],
   "source": [
    "from src.qa_pipeline import iterative_summarize\n",
    "\n",
    "result = summarize_pdf(\"Summarize the PDF\", k=5)\n",
    "print(\"=== SUMMARY ===\")\n",
    "print(result[\"summary\"])\n"
   ]
  },
  {
   "cell_type": "code",
   "execution_count": 3,
   "id": "93c99aa2-eec5-4a57-a6bc-460e74ef613f",
   "metadata": {},
   "outputs": [
    {
     "name": "stderr",
     "output_type": "stream",
     "text": [
      "Batches: 100%|███████████████████████████████████████████████████████████████████████████| 1/1 [00:00<00:00, 13.57it/s]\n"
     ]
    },
    {
     "name": "stdout",
     "output_type": "stream",
     "text": [
      "\"The Book of                Life\" is a remarkable mixture of shrewdness and absurdity\" “He was an uncommon drunk sort o’ man,” said John Rance. “You seem to be a walking calendar of crime,’ Stamford said.\n"
     ]
    }
   ],
   "source": [
    "from src.qa_pipeline import iterative_summarize\n",
    "result = iterative_summarize(\"Summarize the PDF\", k=10)\n",
    "print(result[\"summary\"])\n"
   ]
  },
  {
   "cell_type": "code",
   "execution_count": 5,
   "id": "d0c0bbcb-2fab-4c34-b138-adeb77a2e29e",
   "metadata": {},
   "outputs": [
    {
     "name": "stderr",
     "output_type": "stream",
     "text": [
      "Batches: 100%|███████████████████████████████████████████████████████████████████████████| 1/1 [00:00<00:00, 18.09it/s]\n"
     ]
    },
    {
     "name": "stdout",
     "output_type": "stream",
     "text": [
      "=== FINAL SUMMARY ===\n",
      "\"The Book of                Life\" is a remarkable mixture of shrewdness and absurdity\" “He was an uncommon drunk sort o’ man,” said John Rance. “You seem to be a walking calendar of crime,’ Stamford said.\n"
     ]
    }
   ],
   "source": [
    "from src.qa_pipeline import iterative_summarize\n",
    "\n",
    "result = iterative_summarize(\"Summarize the PDF\", k=10)\n",
    "\n",
    "print(\"=== FINAL SUMMARY ===\")\n",
    "print(result[\"summary\"])\n"
   ]
  },
  {
   "cell_type": "code",
   "execution_count": 6,
   "id": "20637053-f106-46a2-a590-dbf4fa8b865d",
   "metadata": {},
   "outputs": [
    {
     "name": "stderr",
     "output_type": "stream",
     "text": [
      "C:\\Users\\Admin\\Documents\\VK\\pro\\pdf-search-assistant\\venv-pdf-search-assistant\\Lib\\site-packages\\huggingface_hub\\file_download.py:143: UserWarning: `huggingface_hub` cache-system uses symlinks by default to efficiently store duplicated files but your machine does not support them in C:\\Users\\Admin\\.cache\\huggingface\\hub\\models--tiiuae--falcon-7b-instruct. Caching files will still work but in a degraded version that might require more space on your disk. This warning can be disabled by setting the `HF_HUB_DISABLE_SYMLINKS_WARNING` environment variable. For more details, see https://huggingface.co/docs/huggingface_hub/how-to-cache#limitations.\n",
      "To support symlinks on Windows, you either need to activate Developer Mode or to run Python as an administrator. In order to activate developer mode, see this article: https://docs.microsoft.com/en-us/windows/apps/get-started/enable-your-device-for-development\n",
      "  warnings.warn(message)\n",
      "Fetching 2 files: 100%|█████████████████████████████████████████████████████████████████| 2/2 [10:10<00:00, 305.34s/it]\n",
      "Loading checkpoint shards: 100%|█████████████████████████████████████████████████████████| 2/2 [00:00<00:00, 13.45it/s]\n",
      "Device set to use cpu\n",
      "Batches: 100%|███████████████████████████████████████████████████████████████████████████| 1/1 [00:00<00:00,  7.11it/s]\n",
      "Truncation was not explicitly activated but `max_length` is provided a specific value, please use `truncation=True` to explicitly truncate examples to max length. Defaulting to 'longest_first' truncation strategy. If you encode pairs of sequences (GLUE-style) with the tokenizer you can select this strategy more precisely by providing a specific strategy to `truncation`.\n",
      "The following generation flags are not valid and may be ignored: ['temperature']. Set `TRANSFORMERS_VERBOSITY=info` for more details.\n",
      "Setting `pad_token_id` to `eos_token_id`:11 for open-end generation.\n"
     ]
    },
    {
     "ename": "ValueError",
     "evalue": "Input length of input_ids is 300, but `max_length` is set to 300. This can lead to unexpected behavior. You should consider increasing `max_length` or, better yet, setting `max_new_tokens`.",
     "output_type": "error",
     "traceback": [
      "\u001b[31m---------------------------------------------------------------------------\u001b[39m",
      "\u001b[31mValueError\u001b[39m                                Traceback (most recent call last)",
      "\u001b[36mCell\u001b[39m\u001b[36m \u001b[39m\u001b[32mIn[6]\u001b[39m\u001b[32m, line 3\u001b[39m\n\u001b[32m      1\u001b[39m \u001b[38;5;28;01mfrom\u001b[39;00m\u001b[38;5;250m \u001b[39m\u001b[34;01msrc\u001b[39;00m\u001b[34;01m.\u001b[39;00m\u001b[34;01mrag_qa\u001b[39;00m\u001b[38;5;250m \u001b[39m\u001b[38;5;28;01mimport\u001b[39;00m answer_question_rag\n\u001b[32m----> \u001b[39m\u001b[32m3\u001b[39m \u001b[38;5;28mprint\u001b[39m(\u001b[43manswer_question_rag\u001b[49m\u001b[43m(\u001b[49m\u001b[33;43m\"\u001b[39;49m\u001b[33;43mWhat is this book about?\u001b[39;49m\u001b[33;43m\"\u001b[39;49m\u001b[43m,\u001b[49m\u001b[43m \u001b[49m\u001b[43mk\u001b[49m\u001b[43m=\u001b[49m\u001b[32;43m5\u001b[39;49m\u001b[43m)\u001b[49m)\n",
      "\u001b[36mFile \u001b[39m\u001b[32m~\\Documents\\VK\\pro\\pdf-search-assistant\\src\\rag_qa.py:25\u001b[39m, in \u001b[36manswer_question_rag\u001b[39m\u001b[34m(question, collection_name, k)\u001b[39m\n\u001b[32m     15\u001b[39m     context = \u001b[33m\"\u001b[39m\u001b[38;5;130;01m\\n\u001b[39;00m\u001b[38;5;130;01m\\n\u001b[39;00m\u001b[33m\"\u001b[39m.join(hits[\u001b[33m\"\u001b[39m\u001b[33mdocuments\u001b[39m\u001b[33m\"\u001b[39m])\n\u001b[32m     17\u001b[39m     prompt = \u001b[33mf\u001b[39m\u001b[33m\"\"\"\u001b[39m\u001b[33mYou are a helpful assistant. Use the following context from a PDF to answer the user\u001b[39m\u001b[33m'\u001b[39m\u001b[33ms question.\u001b[39m\n\u001b[32m     18\u001b[39m \n\u001b[32m     19\u001b[39m \u001b[33mContext:\u001b[39m\n\u001b[32m   (...)\u001b[39m\u001b[32m     22\u001b[39m \u001b[33mQuestion: \u001b[39m\u001b[38;5;132;01m{\u001b[39;00mquestion\u001b[38;5;132;01m}\u001b[39;00m\n\u001b[32m     23\u001b[39m \u001b[33mAnswer:\u001b[39m\u001b[33m\"\"\"\u001b[39m\n\u001b[32m---> \u001b[39m\u001b[32m25\u001b[39m     result = \u001b[43mqa_llm\u001b[49m\u001b[43m(\u001b[49m\u001b[43mprompt\u001b[49m\u001b[43m,\u001b[49m\u001b[43m \u001b[49m\u001b[43mmax_length\u001b[49m\u001b[43m=\u001b[49m\u001b[32;43m300\u001b[39;49m\u001b[43m,\u001b[49m\u001b[43m \u001b[49m\u001b[43mdo_sample\u001b[49m\u001b[43m=\u001b[49m\u001b[38;5;28;43;01mFalse\u001b[39;49;00m\u001b[43m)\u001b[49m[\u001b[32m0\u001b[39m][\u001b[33m\"\u001b[39m\u001b[33mgenerated_text\u001b[39m\u001b[33m\"\u001b[39m]\n\u001b[32m     26\u001b[39m     \u001b[38;5;28;01mreturn\u001b[39;00m result.split(\u001b[33m\"\u001b[39m\u001b[33mAnswer:\u001b[39m\u001b[33m\"\u001b[39m)[-\u001b[32m1\u001b[39m].strip()\n",
      "\u001b[36mFile \u001b[39m\u001b[32m~\\Documents\\VK\\pro\\pdf-search-assistant\\venv-pdf-search-assistant\\Lib\\site-packages\\transformers\\pipelines\\text_generation.py:316\u001b[39m, in \u001b[36mTextGenerationPipeline.__call__\u001b[39m\u001b[34m(self, text_inputs, **kwargs)\u001b[39m\n\u001b[32m    314\u001b[39m             \u001b[38;5;28;01melse\u001b[39;00m:\n\u001b[32m    315\u001b[39m                 \u001b[38;5;28;01mreturn\u001b[39;00m \u001b[38;5;28msuper\u001b[39m().\u001b[34m__call__\u001b[39m(\u001b[38;5;28mlist\u001b[39m(chats), **kwargs)\n\u001b[32m--> \u001b[39m\u001b[32m316\u001b[39m \u001b[38;5;28;01mreturn\u001b[39;00m \u001b[38;5;28;43msuper\u001b[39;49m\u001b[43m(\u001b[49m\u001b[43m)\u001b[49m\u001b[43m.\u001b[49m\u001b[34;43m__call__\u001b[39;49m\u001b[43m(\u001b[49m\u001b[43mtext_inputs\u001b[49m\u001b[43m,\u001b[49m\u001b[43m \u001b[49m\u001b[43m*\u001b[49m\u001b[43m*\u001b[49m\u001b[43mkwargs\u001b[49m\u001b[43m)\u001b[49m\n",
      "\u001b[36mFile \u001b[39m\u001b[32m~\\Documents\\VK\\pro\\pdf-search-assistant\\venv-pdf-search-assistant\\Lib\\site-packages\\transformers\\pipelines\\base.py:1464\u001b[39m, in \u001b[36mPipeline.__call__\u001b[39m\u001b[34m(self, inputs, num_workers, batch_size, *args, **kwargs)\u001b[39m\n\u001b[32m   1456\u001b[39m     \u001b[38;5;28;01mreturn\u001b[39;00m \u001b[38;5;28mnext\u001b[39m(\n\u001b[32m   1457\u001b[39m         \u001b[38;5;28miter\u001b[39m(\n\u001b[32m   1458\u001b[39m             \u001b[38;5;28mself\u001b[39m.get_iterator(\n\u001b[32m   (...)\u001b[39m\u001b[32m   1461\u001b[39m         )\n\u001b[32m   1462\u001b[39m     )\n\u001b[32m   1463\u001b[39m \u001b[38;5;28;01melse\u001b[39;00m:\n\u001b[32m-> \u001b[39m\u001b[32m1464\u001b[39m     \u001b[38;5;28;01mreturn\u001b[39;00m \u001b[38;5;28;43mself\u001b[39;49m\u001b[43m.\u001b[49m\u001b[43mrun_single\u001b[49m\u001b[43m(\u001b[49m\u001b[43minputs\u001b[49m\u001b[43m,\u001b[49m\u001b[43m \u001b[49m\u001b[43mpreprocess_params\u001b[49m\u001b[43m,\u001b[49m\u001b[43m \u001b[49m\u001b[43mforward_params\u001b[49m\u001b[43m,\u001b[49m\u001b[43m \u001b[49m\u001b[43mpostprocess_params\u001b[49m\u001b[43m)\u001b[49m\n",
      "\u001b[36mFile \u001b[39m\u001b[32m~\\Documents\\VK\\pro\\pdf-search-assistant\\venv-pdf-search-assistant\\Lib\\site-packages\\transformers\\pipelines\\base.py:1471\u001b[39m, in \u001b[36mPipeline.run_single\u001b[39m\u001b[34m(self, inputs, preprocess_params, forward_params, postprocess_params)\u001b[39m\n\u001b[32m   1469\u001b[39m \u001b[38;5;28;01mdef\u001b[39;00m\u001b[38;5;250m \u001b[39m\u001b[34mrun_single\u001b[39m(\u001b[38;5;28mself\u001b[39m, inputs, preprocess_params, forward_params, postprocess_params):\n\u001b[32m   1470\u001b[39m     model_inputs = \u001b[38;5;28mself\u001b[39m.preprocess(inputs, **preprocess_params)\n\u001b[32m-> \u001b[39m\u001b[32m1471\u001b[39m     model_outputs = \u001b[38;5;28;43mself\u001b[39;49m\u001b[43m.\u001b[49m\u001b[43mforward\u001b[49m\u001b[43m(\u001b[49m\u001b[43mmodel_inputs\u001b[49m\u001b[43m,\u001b[49m\u001b[43m \u001b[49m\u001b[43m*\u001b[49m\u001b[43m*\u001b[49m\u001b[43mforward_params\u001b[49m\u001b[43m)\u001b[49m\n\u001b[32m   1472\u001b[39m     outputs = \u001b[38;5;28mself\u001b[39m.postprocess(model_outputs, **postprocess_params)\n\u001b[32m   1473\u001b[39m     \u001b[38;5;28;01mreturn\u001b[39;00m outputs\n",
      "\u001b[36mFile \u001b[39m\u001b[32m~\\Documents\\VK\\pro\\pdf-search-assistant\\venv-pdf-search-assistant\\Lib\\site-packages\\transformers\\pipelines\\base.py:1371\u001b[39m, in \u001b[36mPipeline.forward\u001b[39m\u001b[34m(self, model_inputs, **forward_params)\u001b[39m\n\u001b[32m   1369\u001b[39m     \u001b[38;5;28;01mwith\u001b[39;00m inference_context():\n\u001b[32m   1370\u001b[39m         model_inputs = \u001b[38;5;28mself\u001b[39m._ensure_tensor_on_device(model_inputs, device=\u001b[38;5;28mself\u001b[39m.device)\n\u001b[32m-> \u001b[39m\u001b[32m1371\u001b[39m         model_outputs = \u001b[38;5;28;43mself\u001b[39;49m\u001b[43m.\u001b[49m\u001b[43m_forward\u001b[49m\u001b[43m(\u001b[49m\u001b[43mmodel_inputs\u001b[49m\u001b[43m,\u001b[49m\u001b[43m \u001b[49m\u001b[43m*\u001b[49m\u001b[43m*\u001b[49m\u001b[43mforward_params\u001b[49m\u001b[43m)\u001b[49m\n\u001b[32m   1372\u001b[39m         model_outputs = \u001b[38;5;28mself\u001b[39m._ensure_tensor_on_device(model_outputs, device=torch.device(\u001b[33m\"\u001b[39m\u001b[33mcpu\u001b[39m\u001b[33m\"\u001b[39m))\n\u001b[32m   1373\u001b[39m \u001b[38;5;28;01melse\u001b[39;00m:\n",
      "\u001b[36mFile \u001b[39m\u001b[32m~\\Documents\\VK\\pro\\pdf-search-assistant\\venv-pdf-search-assistant\\Lib\\site-packages\\transformers\\pipelines\\text_generation.py:414\u001b[39m, in \u001b[36mTextGenerationPipeline._forward\u001b[39m\u001b[34m(self, model_inputs, **generate_kwargs)\u001b[39m\n\u001b[32m    411\u001b[39m \u001b[38;5;28;01mif\u001b[39;00m \u001b[33m\"\u001b[39m\u001b[33mgeneration_config\u001b[39m\u001b[33m\"\u001b[39m \u001b[38;5;129;01mnot\u001b[39;00m \u001b[38;5;129;01min\u001b[39;00m generate_kwargs:\n\u001b[32m    412\u001b[39m     generate_kwargs[\u001b[33m\"\u001b[39m\u001b[33mgeneration_config\u001b[39m\u001b[33m\"\u001b[39m] = \u001b[38;5;28mself\u001b[39m.generation_config\n\u001b[32m--> \u001b[39m\u001b[32m414\u001b[39m output = \u001b[38;5;28;43mself\u001b[39;49m\u001b[43m.\u001b[49m\u001b[43mmodel\u001b[49m\u001b[43m.\u001b[49m\u001b[43mgenerate\u001b[49m\u001b[43m(\u001b[49m\u001b[43minput_ids\u001b[49m\u001b[43m=\u001b[49m\u001b[43minput_ids\u001b[49m\u001b[43m,\u001b[49m\u001b[43m \u001b[49m\u001b[43mattention_mask\u001b[49m\u001b[43m=\u001b[49m\u001b[43mattention_mask\u001b[49m\u001b[43m,\u001b[49m\u001b[43m \u001b[49m\u001b[43m*\u001b[49m\u001b[43m*\u001b[49m\u001b[43mgenerate_kwargs\u001b[49m\u001b[43m)\u001b[49m\n\u001b[32m    416\u001b[39m \u001b[38;5;28;01mif\u001b[39;00m \u001b[38;5;28misinstance\u001b[39m(output, ModelOutput):\n\u001b[32m    417\u001b[39m     generated_sequence = output.sequences\n",
      "\u001b[36mFile \u001b[39m\u001b[32m~\\Documents\\VK\\pro\\pdf-search-assistant\\venv-pdf-search-assistant\\Lib\\site-packages\\torch\\utils\\_contextlib.py:116\u001b[39m, in \u001b[36mcontext_decorator.<locals>.decorate_context\u001b[39m\u001b[34m(*args, **kwargs)\u001b[39m\n\u001b[32m    113\u001b[39m \u001b[38;5;129m@functools\u001b[39m.wraps(func)\n\u001b[32m    114\u001b[39m \u001b[38;5;28;01mdef\u001b[39;00m\u001b[38;5;250m \u001b[39m\u001b[34mdecorate_context\u001b[39m(*args, **kwargs):\n\u001b[32m    115\u001b[39m     \u001b[38;5;28;01mwith\u001b[39;00m ctx_factory():\n\u001b[32m--> \u001b[39m\u001b[32m116\u001b[39m         \u001b[38;5;28;01mreturn\u001b[39;00m \u001b[43mfunc\u001b[49m\u001b[43m(\u001b[49m\u001b[43m*\u001b[49m\u001b[43margs\u001b[49m\u001b[43m,\u001b[49m\u001b[43m \u001b[49m\u001b[43m*\u001b[49m\u001b[43m*\u001b[49m\u001b[43mkwargs\u001b[49m\u001b[43m)\u001b[49m\n",
      "\u001b[36mFile \u001b[39m\u001b[32m~\\Documents\\VK\\pro\\pdf-search-assistant\\venv-pdf-search-assistant\\Lib\\site-packages\\transformers\\generation\\utils.py:2471\u001b[39m, in \u001b[36mGenerationMixin.generate\u001b[39m\u001b[34m(self, inputs, generation_config, logits_processor, stopping_criteria, prefix_allowed_tokens_fn, synced_gpus, assistant_model, streamer, negative_prompt_ids, negative_prompt_attention_mask, use_model_defaults, custom_generate, **kwargs)\u001b[39m\n\u001b[32m   2468\u001b[39m \u001b[38;5;28;01mif\u001b[39;00m \u001b[38;5;28mself\u001b[39m._supports_logits_to_keep() \u001b[38;5;129;01mand\u001b[39;00m \u001b[33m\"\u001b[39m\u001b[33mlogits_to_keep\u001b[39m\u001b[33m\"\u001b[39m \u001b[38;5;129;01mnot\u001b[39;00m \u001b[38;5;129;01min\u001b[39;00m model_kwargs:\n\u001b[32m   2469\u001b[39m     model_kwargs[\u001b[33m\"\u001b[39m\u001b[33mlogits_to_keep\u001b[39m\u001b[33m\"\u001b[39m] = \u001b[32m1\u001b[39m\n\u001b[32m-> \u001b[39m\u001b[32m2471\u001b[39m \u001b[38;5;28;43mself\u001b[39;49m\u001b[43m.\u001b[49m\u001b[43m_validate_generated_length\u001b[49m\u001b[43m(\u001b[49m\u001b[43mgeneration_config\u001b[49m\u001b[43m,\u001b[49m\u001b[43m \u001b[49m\u001b[43minput_ids_length\u001b[49m\u001b[43m,\u001b[49m\u001b[43m \u001b[49m\u001b[43mhas_default_max_length\u001b[49m\u001b[43m)\u001b[49m\n\u001b[32m   2473\u001b[39m \u001b[38;5;66;03m# 7. Prepare the cache.\u001b[39;00m\n\u001b[32m   2474\u001b[39m \u001b[38;5;66;03m# - `model_kwargs` may be updated in place with a cache as defined by the parameters in `generation_config`.\u001b[39;00m\n\u001b[32m   2475\u001b[39m \u001b[38;5;66;03m# - different models have a different cache name expected by the model (default = \"past_key_values\")\u001b[39;00m\n\u001b[32m   2476\u001b[39m \u001b[38;5;66;03m# - `max_length`, prepared above, is used to determine the maximum cache length\u001b[39;00m\n\u001b[32m   2477\u001b[39m max_cache_length = generation_config.max_length - \u001b[32m1\u001b[39m\n",
      "\u001b[36mFile \u001b[39m\u001b[32m~\\Documents\\VK\\pro\\pdf-search-assistant\\venv-pdf-search-assistant\\Lib\\site-packages\\transformers\\generation\\utils.py:1626\u001b[39m, in \u001b[36mGenerationMixin._validate_generated_length\u001b[39m\u001b[34m(self, generation_config, input_ids_length, has_default_max_length)\u001b[39m\n\u001b[32m   1624\u001b[39m \u001b[38;5;28;01mif\u001b[39;00m input_ids_length >= generation_config.max_length:\n\u001b[32m   1625\u001b[39m     input_ids_string = \u001b[33m\"\u001b[39m\u001b[33mdecoder_input_ids\u001b[39m\u001b[33m\"\u001b[39m \u001b[38;5;28;01mif\u001b[39;00m \u001b[38;5;28mself\u001b[39m.config.is_encoder_decoder \u001b[38;5;28;01melse\u001b[39;00m \u001b[33m\"\u001b[39m\u001b[33minput_ids\u001b[39m\u001b[33m\"\u001b[39m\n\u001b[32m-> \u001b[39m\u001b[32m1626\u001b[39m     \u001b[38;5;28;01mraise\u001b[39;00m \u001b[38;5;167;01mValueError\u001b[39;00m(\n\u001b[32m   1627\u001b[39m         \u001b[33mf\u001b[39m\u001b[33m\"\u001b[39m\u001b[33mInput length of \u001b[39m\u001b[38;5;132;01m{\u001b[39;00minput_ids_string\u001b[38;5;132;01m}\u001b[39;00m\u001b[33m is \u001b[39m\u001b[38;5;132;01m{\u001b[39;00minput_ids_length\u001b[38;5;132;01m}\u001b[39;00m\u001b[33m, but `max_length` is set to\u001b[39m\u001b[33m\"\u001b[39m\n\u001b[32m   1628\u001b[39m         \u001b[33mf\u001b[39m\u001b[33m\"\u001b[39m\u001b[33m \u001b[39m\u001b[38;5;132;01m{\u001b[39;00mgeneration_config.max_length\u001b[38;5;132;01m}\u001b[39;00m\u001b[33m. This can lead to unexpected behavior. You should consider\u001b[39m\u001b[33m\"\u001b[39m\n\u001b[32m   1629\u001b[39m         \u001b[33m\"\u001b[39m\u001b[33m increasing `max_length` or, better yet, setting `max_new_tokens`.\u001b[39m\u001b[33m\"\u001b[39m\n\u001b[32m   1630\u001b[39m     )\n\u001b[32m   1632\u001b[39m \u001b[38;5;66;03m# 2. Min length warnings due to unfeasible parameter combinations\u001b[39;00m\n\u001b[32m   1633\u001b[39m min_length_error_suffix = (\n\u001b[32m   1634\u001b[39m     \u001b[33m\"\u001b[39m\u001b[33m Generation will stop at the defined maximum length. You should decrease the minimum length and/or \u001b[39m\u001b[33m\"\u001b[39m\n\u001b[32m   1635\u001b[39m     \u001b[33m\"\u001b[39m\u001b[33mincrease the maximum length.\u001b[39m\u001b[33m\"\u001b[39m\n\u001b[32m   1636\u001b[39m )\n",
      "\u001b[31mValueError\u001b[39m: Input length of input_ids is 300, but `max_length` is set to 300. This can lead to unexpected behavior. You should consider increasing `max_length` or, better yet, setting `max_new_tokens`."
     ]
    }
   ],
   "source": [
    "from src.rag_qa import answer_question_rag\n",
    "\n",
    "print(answer_question_rag(\"What is this book about?\", k=5))\n"
   ]
  },
  {
   "cell_type": "code",
   "execution_count": 7,
   "id": "68d6bc56-7662-4679-9d67-3696377c1093",
   "metadata": {},
   "outputs": [
    {
     "name": "stdout",
     "output_type": "stream",
     "text": [
      " Title: A Study in Scarlet\n",
      "\n",
      "Author: Arthur Conan Doyle\n",
      "\n",
      "Plot Summary:\n",
      "\n",
      "\"A Study in Scarlet\" is a detective mystery novel that introduces Sherlock Holmes and Dr. John Watson. The story begins with Holmes, a consulting detective living at 221B Baker Street in London, and his new roommate, the military doctor John Watson, returning from an injury sustained during the Second Anglo-Afghan War.\n",
      "\n",
      "The narrative unfolds as Watson writes about their first case together. They are approached by Inspector Lestrade of Scotland Yard, who asks Holmes to consult on a mysterious murder case. The victim was found dead in a house with the word \"Rache\" (German for \"revenge\") scrawled on the wall.\n",
      "\n",
      "Holmes deduces that the crime scene is not the actual site of the murder, and they find a trail leading to Broughton-Hall, a remote country estate in Lancashire, England. After examining the house, Holmes identifies it as the home of one Enoch J. Drebber and Joseph T. Stamford, American brothers who are notorious criminals known for their involvement with the Mormons. The brothers had fled London to avoid arrest after a failed robbery attempt.\n",
      "\n",
      "In Utah, a man named Thomas Worthington is found dead in a canyon with no apparent cause. Local residents believe it was an accident or natural death, but Holmes and Watson deduce that it is actually the same murder victim as in London. They learn that Drebber and Stamford had fled to Utah after finding a large stash of money buried beneath Broughton-Hall. The brothers were eventually murdered by one of their henchmen named Norton, who stole the money and left for Utah.\n",
      "\n",
      "Worthington was a friend of Norton who discovered his secret. Norton, fearing that Worthington would expose him, killed Worthington and took his identity to continue living in Utah while hiding his guilt. Meanwhile, Holmes and Watson confront Norton, and he is arrested by the police.\n",
      "\n",
      "In the final part of the story, a Mormon elder named Enoch Drebber reveals that the word \"Rache\" was written on the wall because it was actually his brother John's name spelled backward. The brothers had betrayed the Mormons and were planning to use their knowledge of Mormon secrets for blackmail purposes.\n",
      "\n",
      "The story concludes with Holmes returning to Baker Street, having solved the case, and Watson contemplating leaving to marry Mary Morstan, a woman they met earlier in the narrative. They decide to embark on more adventures together as Holmes's partner in solving cases.\n"
     ]
    }
   ],
   "source": [
    "import ollama\n",
    "\n",
    "response = ollama.chat(\n",
    "    model='mistral',\n",
    "    messages=[\n",
    "        {\"role\": \"user\", \"content\": \"Summarize the plot of A Study in Scarlet.\"}\n",
    "    ]\n",
    ")\n",
    "\n",
    "print(response['message']['content'])\n"
   ]
  },
  {
   "cell_type": "code",
   "execution_count": 1,
   "id": "fba63069-614e-4d84-a8c6-b3f8887adc5e",
   "metadata": {},
   "outputs": [
    {
     "name": "stdout",
     "output_type": "stream",
     "text": [
      "hello\n"
     ]
    },
    {
     "name": "stderr",
     "output_type": "stream",
     "text": [
      "C:\\Users\\Admin\\Documents\\VK\\pro\\pdf-search-assistant\\venv-pdf-search-assistant\\Lib\\site-packages\\tqdm\\auto.py:21: TqdmWarning: IProgress not found. Please update jupyter and ipywidgets. See https://ipywidgets.readthedocs.io/en/stable/user_install.html\n",
      "  from .autonotebook import tqdm as notebook_tqdm\n",
      "Batches: 100%|███████████████████████████████████████████████████████████████████████████| 1/1 [00:00<00:00, 31.13it/s]\n"
     ]
    },
    {
     "name": "stdout",
     "output_type": "stream",
     "text": [
      "The book is titled \"The Book of Life\" and it attempts to show how much an observant person can learn by examining everything that comes their way accurately and systematically. It is described as a mixture of shrewdness and absurdity, with the reasoning being close and intense but the deductions appearing far-fetched and exaggerated. The author's knowledge seems remarkable in some areas but extremely limited in others, particularly contemporary literature, philosophy, and politics.\n"
     ]
    }
   ],
   "source": [
    "from src.rag_qa import answer_question_rag\n",
    "print(answer_question_rag(\"What is this book about?\", k=5))\n"
   ]
  },
  {
   "cell_type": "code",
   "execution_count": 1,
   "id": "a7f498de-97e7-4225-bc09-1e7df9c7d154",
   "metadata": {},
   "outputs": [
    {
     "name": "stdout",
     "output_type": "stream",
     "text": [
      "hello\n"
     ]
    },
    {
     "name": "stderr",
     "output_type": "stream",
     "text": [
      "C:\\Users\\Admin\\Documents\\VK\\pro\\pdf-search-assistant\\venv-pdf-search-assistant\\Lib\\site-packages\\InstructorEmbedding\\instructor.py:7: TqdmWarning: IProgress not found. Please update jupyter and ipywidgets. See https://ipywidgets.readthedocs.io/en/stable/user_install.html\n",
      "  from tqdm.autonotebook import trange\n",
      "No sentence-transformers model found with name hkunlp/instructor-base. Creating a new one with mean pooling.\n",
      "`SentenceTransformer._target_device` has been deprecated, please use `SentenceTransformer.device` instead.\n"
     ]
    }
   ],
   "source": [
    "from src.pdf_reader import extract_text_by_page\n",
    "from src.chunker import chunk_text\n",
    "from src.embedding import embed_texts\n",
    "from src.vector_store import get_or_create_collection, add_chunks_to_collection\n",
    "\n",
    "# Step 1: Extract & chunk the PDF\n",
    "pages = extract_text_by_page(\"study_in_scarlet.pdf\")\n",
    "chunks = chunk_text(pages)\n",
    "\n",
    "# Step 2: Test with first 50 chunks\n",
    "sample_chunks = chunks[:50]\n",
    "sample_embeddings = embed_texts(sample_chunks)\n",
    "\n",
    "# Step 3: Add to vector store\n",
    "collection = get_or_create_collection(\"my-pdf-docs\")\n",
    "add_chunks_to_collection(collection, sample_chunks, sample_embeddings, source=\"study_in_scarlet.pdf\")\n"
   ]
  },
  {
   "cell_type": "code",
   "execution_count": 2,
   "id": "e68d3d54-8ddb-4e1f-9174-a781a8a4e441",
   "metadata": {},
   "outputs": [
    {
     "name": "stderr",
     "output_type": "stream",
     "text": [
      "`SentenceTransformer._target_device` has been deprecated, please use `SentenceTransformer.device` instead.\n"
     ]
    },
    {
     "name": "stdout",
     "output_type": "stream",
     "text": [
      "This book appears to be \"A Study In Scarlet\" by Arthur Conan Doyle, as indicated in the context provided. However, without additional information, it's challenging to summarize the entire plot of the book based solely on the provided text. The story primarily revolves around the character of Sherlock Holmes and his friend Dr. John Watson, and the mystery they solve together. This particular segment of the text suggests that the characters are discussing a strange man, possibly connected to a case or mystery, and Holmes' unique methods of gathering information.\n"
     ]
    }
   ],
   "source": [
    "from src.rag_qa import answer_question_rag\n",
    "\n",
    "print(answer_question_rag(\"What is this book about?\", k=5))\n"
   ]
  },
  {
   "cell_type": "code",
   "execution_count": null,
   "id": "28182b89-544d-4b28-8fe7-b3fc3a6b8c18",
   "metadata": {},
   "outputs": [],
   "source": []
  }
 ],
 "metadata": {
  "kernelspec": {
   "display_name": "Python (pdf-search-assistant)",
   "language": "python",
   "name": "pdf-search-assistant"
  },
  "language_info": {
   "codemirror_mode": {
    "name": "ipython",
    "version": 3
   },
   "file_extension": ".py",
   "mimetype": "text/x-python",
   "name": "python",
   "nbconvert_exporter": "python",
   "pygments_lexer": "ipython3",
   "version": "3.13.1"
  }
 },
 "nbformat": 4,
 "nbformat_minor": 5
}
